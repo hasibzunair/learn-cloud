{
 "cells": [
  {
   "cell_type": "markdown",
   "metadata": {},
   "source": [
    "<a href=\"https://colab.research.google.com/github/wandb/edu/blob/main/mlops-001/lesson2/04_refactor_baseline.ipynb\" target=\"_parent\"><img src=\"https://colab.research.google.com/assets/colab-badge.svg\" alt=\"Open In Colab\"/></a>\n",
    "<!--- @wandbcode{course-lesson2} -->"
   ]
  },
  {
   "cell_type": "markdown",
   "id": "6cec1a21",
   "metadata": {},
   "source": [
    "# Refactor of Baseline Model\n",
    "<!--- @wandbcode{course-lesson2} -->\n",
    "\n",
    "The same code as in the previous notebook, but refactored into a small functions. This will be useful for the hyperparameter tuning."
   ]
  },
  {
   "cell_type": "code",
   "execution_count": 1,
   "id": "29116dec",
   "metadata": {},
   "outputs": [],
   "source": [
    "import wandb\n",
    "import pandas as pd\n",
    "import torchvision.models as tvmodels\n",
    "from fastai.vision.all import *\n",
    "from fastai.callback.wandb import WandbCallback\n",
    "\n",
    "import params\n",
    "from utils import get_predictions, create_iou_table, MIOU, BackgroundIOU, \\\n",
    "                  RoadIOU, TrafficLightIOU, TrafficSignIOU, PersonIOU, VehicleIOU, BicycleIOU"
   ]
  },
  {
   "cell_type": "code",
   "execution_count": 2,
   "id": "cff6b8ee",
   "metadata": {},
   "outputs": [],
   "source": [
    "train_config = SimpleNamespace(\n",
    "    framework=\"fastai\",\n",
    "    img_size=(180, 320),\n",
    "    batch_size=8,\n",
    "    augment=True, # use data augmentation\n",
    "    epochs=10, \n",
    "    lr=2e-3,\n",
    "    arch=\"resnet18\",\n",
    "    pretrained=True,  # whether to use pretrained encoder\n",
    "    seed=42,\n",
    "    log_preds=True,\n",
    ")"
   ]
  },
  {
   "cell_type": "code",
   "execution_count": 3,
   "id": "954c2bb4-4d69-4dc4-9653-26cbc13ba509",
   "metadata": {},
   "outputs": [],
   "source": [
    "def download_data():\n",
    "    processed_data_at = wandb.use_artifact(f'{params.PROCESSED_DATA_AT}:latest')\n",
    "    processed_dataset_dir = Path(processed_data_at.download())\n",
    "    return processed_dataset_dir"
   ]
  },
  {
   "cell_type": "code",
   "execution_count": 4,
   "id": "65ae3d60",
   "metadata": {},
   "outputs": [],
   "source": [
    "def label_func(fname):\n",
    "    return (fname.parent.parent/\"labels\")/f\"{fname.stem}_mask.png\""
   ]
  },
  {
   "cell_type": "code",
   "execution_count": 5,
   "id": "0010b696-eb6a-402e-9d3e-98c20a7deb62",
   "metadata": {},
   "outputs": [],
   "source": [
    "def get_df(processed_dataset_dir, is_test=False):\n",
    "    df = pd.read_csv(processed_dataset_dir / 'data_split.csv')\n",
    "    \n",
    "    if not is_test:\n",
    "        df = df[df.Stage != 'test'].reset_index(drop=True)\n",
    "        df['is_valid'] = df.Stage == 'valid'\n",
    "    else:\n",
    "        df = df[df.Stage == 'test'].reset_index(drop=True)\n",
    "        \n",
    "    \n",
    "    # assign paths\n",
    "    df[\"image_fname\"] = [processed_dataset_dir/f'images/{f}' for f in df.File_Name.values]\n",
    "    df[\"label_fname\"] = [label_func(f) for f in df.image_fname.values]\n",
    "    return df"
   ]
  },
  {
   "cell_type": "code",
   "execution_count": 6,
   "id": "4268334e",
   "metadata": {},
   "outputs": [],
   "source": [
    "def get_data(df, bs=4, img_size=(180, 320), augment=True):\n",
    "    block = DataBlock(blocks=(ImageBlock, MaskBlock(codes=params.BDD_CLASSES)),\n",
    "                  get_x=ColReader(\"image_fname\"),\n",
    "                  get_y=ColReader(\"label_fname\"),\n",
    "                  splitter=ColSplitter(),\n",
    "                  item_tfms=Resize(img_size),\n",
    "                  batch_tfms=aug_transforms() if augment else None,\n",
    "                 )\n",
    "    return block.dataloaders(df, bs=bs)"
   ]
  },
  {
   "cell_type": "code",
   "execution_count": 7,
   "id": "387dc2d8",
   "metadata": {},
   "outputs": [],
   "source": [
    "def log_predictions(learn):\n",
    "    \"Log a Table with model predictions\"\n",
    "    samples, outputs, predictions = get_predictions(learn)\n",
    "    table = create_iou_table(samples, outputs, predictions, params.BDD_CLASSES)\n",
    "    wandb.log({\"pred_table\":table})"
   ]
  },
  {
   "cell_type": "code",
   "execution_count": 8,
   "id": "d6ec120e",
   "metadata": {},
   "outputs": [],
   "source": [
    "def log_final_metrics(learn):\n",
    "    scores = learn.validate()\n",
    "    metric_names = ['final_loss'] + [f'final_{x.name}' for x in learn.metrics]\n",
    "    final_results = {metric_names[i] : scores[i] for i in range(len(scores))}\n",
    "    for k,v in final_results.items(): \n",
    "        wandb.summary[k] = v"
   ]
  },
  {
   "cell_type": "code",
   "execution_count": 9,
   "id": "f4dd39ae-3b74-4c72-bb83-02e0ad68a96b",
   "metadata": {},
   "outputs": [],
   "source": [
    "def train(config):\n",
    "    set_seed(config.seed, reproducible=True)\n",
    "    run = wandb.init(project=params.WANDB_PROJECT, entity=params.ENTITY, job_type=\"training\", config=config)\n",
    "\n",
    "    config = wandb.config\n",
    "    \n",
    "    processed_dataset_dir = download_data()\n",
    "    df = get_df(processed_dataset_dir)\n",
    "    \n",
    "    dls = get_data(df, bs=config.batch_size, img_size=config.img_size, augment=config.augment)\n",
    "\n",
    "    metrics = [MIOU(), BackgroundIOU(), RoadIOU(), TrafficLightIOU(), \\\n",
    "               TrafficSignIOU(), PersonIOU(), VehicleIOU(), BicycleIOU()]\n",
    "\n",
    "    learn = unet_learner(dls, arch=getattr(tvmodels, config.arch), pretrained=config.pretrained, metrics=metrics)\n",
    "\n",
    "    callbacks = [\n",
    "        SaveModelCallback(monitor='miou'),\n",
    "        WandbCallback(log_preds=False, log_model=True)\n",
    "    ]\n",
    "\n",
    "    learn.fit_one_cycle(config.epochs, config.lr, cbs=callbacks)\n",
    "    \n",
    "    if config.log_preds:\n",
    "        log_predictions(learn)\n",
    "        \n",
    "    log_final_metrics(learn)\n",
    "\n",
    "    wandb.finish()"
   ]
  },
  {
   "cell_type": "markdown",
   "id": "77a8eaf3-a416-442d-b5c3-6e8a2bcf7b55",
   "metadata": {},
   "source": [
    "## Run the training"
   ]
  },
  {
   "cell_type": "code",
   "execution_count": 10,
   "id": "24a789d6-ca7b-4709-9370-d36ae60d2c89",
   "metadata": {},
   "outputs": [
    {
     "name": "stderr",
     "output_type": "stream",
     "text": [
      "Failed to detect the name of this notebook, you can set it manually with the WANDB_NOTEBOOK_NAME environment variable to enable code saving.\n",
      "\u001b[34m\u001b[1mwandb\u001b[0m: Currently logged in as: \u001b[33mhasibzunair\u001b[0m. Use \u001b[1m`wandb login --relogin`\u001b[0m to force relogin\n"
     ]
    },
    {
     "data": {
      "text/html": [
       "wandb version 0.15.0 is available!  To upgrade, please run:\n",
       " $ pip install wandb --upgrade"
      ],
      "text/plain": [
       "<IPython.core.display.HTML object>"
      ]
     },
     "metadata": {},
     "output_type": "display_data"
    },
    {
     "data": {
      "text/html": [
       "Tracking run with wandb version 0.14.2"
      ],
      "text/plain": [
       "<IPython.core.display.HTML object>"
      ]
     },
     "metadata": {},
     "output_type": "display_data"
    },
    {
     "data": {
      "text/html": [
       "Run data is saved locally in <code>/home/hasib/learn-mlops/lesson2/wandb/run-20230428_050206-c8hwz719</code>"
      ],
      "text/plain": [
       "<IPython.core.display.HTML object>"
      ]
     },
     "metadata": {},
     "output_type": "display_data"
    },
    {
     "data": {
      "text/html": [
       "Syncing run <strong><a href='https://wandb.ai/hasibzunair/mlops-course-001/runs/c8hwz719' target=\"_blank\">glowing-leaf-8</a></strong> to <a href='https://wandb.ai/hasibzunair/mlops-course-001' target=\"_blank\">Weights & Biases</a> (<a href='https://wandb.me/run' target=\"_blank\">docs</a>)<br/>"
      ],
      "text/plain": [
       "<IPython.core.display.HTML object>"
      ]
     },
     "metadata": {},
     "output_type": "display_data"
    },
    {
     "data": {
      "text/html": [
       " View project at <a href='https://wandb.ai/hasibzunair/mlops-course-001' target=\"_blank\">https://wandb.ai/hasibzunair/mlops-course-001</a>"
      ],
      "text/plain": [
       "<IPython.core.display.HTML object>"
      ]
     },
     "metadata": {},
     "output_type": "display_data"
    },
    {
     "data": {
      "text/html": [
       " View run at <a href='https://wandb.ai/hasibzunair/mlops-course-001/runs/c8hwz719' target=\"_blank\">https://wandb.ai/hasibzunair/mlops-course-001/runs/c8hwz719</a>"
      ],
      "text/plain": [
       "<IPython.core.display.HTML object>"
      ]
     },
     "metadata": {},
     "output_type": "display_data"
    },
    {
     "name": "stderr",
     "output_type": "stream",
     "text": [
      "\u001b[34m\u001b[1mwandb\u001b[0m: Downloading large artifact bdd_simple_1k_split:latest, 813.25MB. 4010 files... \n",
      "\u001b[34m\u001b[1mwandb\u001b[0m:   4010 of 4010 files downloaded.  \n",
      "Done. 0:0:30.1\n"
     ]
    },
    {
     "data": {
      "text/html": [
       "\n",
       "<style>\n",
       "    /* Turns off some styling */\n",
       "    progress {\n",
       "        /* gets rid of default border in Firefox and Opera. */\n",
       "        border: none;\n",
       "        /* Needs to be in here for Safari polyfill so background images work as expected. */\n",
       "        background-size: auto;\n",
       "    }\n",
       "    progress:not([value]), progress:not([value])::-webkit-progress-bar {\n",
       "        background: repeating-linear-gradient(45deg, #7e7e7e, #7e7e7e 10px, #5c5c5c 10px, #5c5c5c 20px);\n",
       "    }\n",
       "    .progress-bar-interrupted, .progress-bar-interrupted::-webkit-progress-bar {\n",
       "        background: #F44336;\n",
       "    }\n",
       "</style>\n"
      ],
      "text/plain": [
       "<IPython.core.display.HTML object>"
      ]
     },
     "metadata": {},
     "output_type": "display_data"
    },
    {
     "data": {
      "text/html": [
       "<table border=\"1\" class=\"dataframe\">\n",
       "  <thead>\n",
       "    <tr style=\"text-align: left;\">\n",
       "      <th>epoch</th>\n",
       "      <th>train_loss</th>\n",
       "      <th>valid_loss</th>\n",
       "      <th>miou</th>\n",
       "      <th>background_iou</th>\n",
       "      <th>road_iou</th>\n",
       "      <th>traffic_light_iou</th>\n",
       "      <th>traffic_sign_iou</th>\n",
       "      <th>person_iou</th>\n",
       "      <th>vehicle_iou</th>\n",
       "      <th>bicycle_iou</th>\n",
       "      <th>time</th>\n",
       "    </tr>\n",
       "  </thead>\n",
       "  <tbody>\n",
       "    <tr>\n",
       "      <td>0</td>\n",
       "      <td>0.485176</td>\n",
       "      <td>0.377947</td>\n",
       "      <td>0.280582</td>\n",
       "      <td>0.845450</td>\n",
       "      <td>0.727693</td>\n",
       "      <td>0.000000</td>\n",
       "      <td>0.000000</td>\n",
       "      <td>0.000000</td>\n",
       "      <td>0.390932</td>\n",
       "      <td>0.000000</td>\n",
       "      <td>00:26</td>\n",
       "    </tr>\n",
       "    <tr>\n",
       "      <td>1</td>\n",
       "      <td>0.401298</td>\n",
       "      <td>0.322073</td>\n",
       "      <td>0.317782</td>\n",
       "      <td>0.883343</td>\n",
       "      <td>0.788449</td>\n",
       "      <td>0.000000</td>\n",
       "      <td>0.000000</td>\n",
       "      <td>0.000000</td>\n",
       "      <td>0.552682</td>\n",
       "      <td>0.000000</td>\n",
       "      <td>00:13</td>\n",
       "    </tr>\n",
       "    <tr>\n",
       "      <td>2</td>\n",
       "      <td>0.368958</td>\n",
       "      <td>0.368052</td>\n",
       "      <td>0.312949</td>\n",
       "      <td>0.868157</td>\n",
       "      <td>0.778199</td>\n",
       "      <td>0.000000</td>\n",
       "      <td>0.000000</td>\n",
       "      <td>0.000000</td>\n",
       "      <td>0.544284</td>\n",
       "      <td>0.000000</td>\n",
       "      <td>00:13</td>\n",
       "    </tr>\n",
       "    <tr>\n",
       "      <td>3</td>\n",
       "      <td>0.304589</td>\n",
       "      <td>0.261118</td>\n",
       "      <td>0.342880</td>\n",
       "      <td>0.898854</td>\n",
       "      <td>0.800269</td>\n",
       "      <td>0.000000</td>\n",
       "      <td>0.000000</td>\n",
       "      <td>0.000000</td>\n",
       "      <td>0.701040</td>\n",
       "      <td>0.000000</td>\n",
       "      <td>00:13</td>\n",
       "    </tr>\n",
       "    <tr>\n",
       "      <td>4</td>\n",
       "      <td>0.280144</td>\n",
       "      <td>0.263678</td>\n",
       "      <td>0.348411</td>\n",
       "      <td>0.907371</td>\n",
       "      <td>0.821871</td>\n",
       "      <td>0.000000</td>\n",
       "      <td>0.000000</td>\n",
       "      <td>0.000000</td>\n",
       "      <td>0.709634</td>\n",
       "      <td>0.000000</td>\n",
       "      <td>00:13</td>\n",
       "    </tr>\n",
       "    <tr>\n",
       "      <td>5</td>\n",
       "      <td>0.254002</td>\n",
       "      <td>0.259329</td>\n",
       "      <td>0.352644</td>\n",
       "      <td>0.910566</td>\n",
       "      <td>0.833924</td>\n",
       "      <td>0.000000</td>\n",
       "      <td>0.000000</td>\n",
       "      <td>0.000000</td>\n",
       "      <td>0.724016</td>\n",
       "      <td>0.000000</td>\n",
       "      <td>00:13</td>\n",
       "    </tr>\n",
       "    <tr>\n",
       "      <td>6</td>\n",
       "      <td>0.223623</td>\n",
       "      <td>0.247083</td>\n",
       "      <td>0.361826</td>\n",
       "      <td>0.912067</td>\n",
       "      <td>0.832439</td>\n",
       "      <td>0.064098</td>\n",
       "      <td>0.002943</td>\n",
       "      <td>0.000000</td>\n",
       "      <td>0.721238</td>\n",
       "      <td>0.000000</td>\n",
       "      <td>00:13</td>\n",
       "    </tr>\n",
       "    <tr>\n",
       "      <td>7</td>\n",
       "      <td>0.205468</td>\n",
       "      <td>0.237259</td>\n",
       "      <td>0.362066</td>\n",
       "      <td>0.916794</td>\n",
       "      <td>0.834851</td>\n",
       "      <td>0.018839</td>\n",
       "      <td>0.003220</td>\n",
       "      <td>0.000000</td>\n",
       "      <td>0.760755</td>\n",
       "      <td>0.000000</td>\n",
       "      <td>00:13</td>\n",
       "    </tr>\n",
       "    <tr>\n",
       "      <td>8</td>\n",
       "      <td>0.189890</td>\n",
       "      <td>0.229960</td>\n",
       "      <td>0.367133</td>\n",
       "      <td>0.920441</td>\n",
       "      <td>0.844742</td>\n",
       "      <td>0.053687</td>\n",
       "      <td>0.000601</td>\n",
       "      <td>0.000000</td>\n",
       "      <td>0.750458</td>\n",
       "      <td>0.000000</td>\n",
       "      <td>00:13</td>\n",
       "    </tr>\n",
       "    <tr>\n",
       "      <td>9</td>\n",
       "      <td>0.180548</td>\n",
       "      <td>0.225967</td>\n",
       "      <td>0.371130</td>\n",
       "      <td>0.922593</td>\n",
       "      <td>0.843756</td>\n",
       "      <td>0.059024</td>\n",
       "      <td>0.002980</td>\n",
       "      <td>0.000000</td>\n",
       "      <td>0.769557</td>\n",
       "      <td>0.000000</td>\n",
       "      <td>00:13</td>\n",
       "    </tr>\n",
       "  </tbody>\n",
       "</table>"
      ],
      "text/plain": [
       "<IPython.core.display.HTML object>"
      ]
     },
     "metadata": {},
     "output_type": "display_data"
    },
    {
     "name": "stdout",
     "output_type": "stream",
     "text": [
      "Better model found at epoch 0 with miou value: 0.2805821088219793.\n",
      "Better model found at epoch 1 with miou value: 0.3177820982790308.\n",
      "Better model found at epoch 3 with miou value: 0.34288040074759635.\n",
      "Better model found at epoch 4 with miou value: 0.348410878133633.\n",
      "Better model found at epoch 5 with miou value: 0.352643839894093.\n",
      "Better model found at epoch 6 with miou value: 0.3618262770261621.\n",
      "Better model found at epoch 7 with miou value: 0.36206551000592013.\n",
      "Better model found at epoch 8 with miou value: 0.36713269479282296.\n",
      "Better model found at epoch 9 with miou value: 0.371129952409564.\n"
     ]
    },
    {
     "data": {
      "text/html": [
       "\n",
       "<style>\n",
       "    /* Turns off some styling */\n",
       "    progress {\n",
       "        /* gets rid of default border in Firefox and Opera. */\n",
       "        border: none;\n",
       "        /* Needs to be in here for Safari polyfill so background images work as expected. */\n",
       "        background-size: auto;\n",
       "    }\n",
       "    progress:not([value]), progress:not([value])::-webkit-progress-bar {\n",
       "        background: repeating-linear-gradient(45deg, #7e7e7e, #7e7e7e 10px, #5c5c5c 10px, #5c5c5c 20px);\n",
       "    }\n",
       "    .progress-bar-interrupted, .progress-bar-interrupted::-webkit-progress-bar {\n",
       "        background: #F44336;\n",
       "    }\n",
       "</style>\n"
      ],
      "text/plain": [
       "<IPython.core.display.HTML object>"
      ]
     },
     "metadata": {},
     "output_type": "display_data"
    },
    {
     "data": {
      "text/html": [],
      "text/plain": [
       "<IPython.core.display.HTML object>"
      ]
     },
     "metadata": {},
     "output_type": "display_data"
    },
    {
     "data": {
      "text/html": [
       "\n",
       "<style>\n",
       "    /* Turns off some styling */\n",
       "    progress {\n",
       "        /* gets rid of default border in Firefox and Opera. */\n",
       "        border: none;\n",
       "        /* Needs to be in here for Safari polyfill so background images work as expected. */\n",
       "        background-size: auto;\n",
       "    }\n",
       "    progress:not([value]), progress:not([value])::-webkit-progress-bar {\n",
       "        background: repeating-linear-gradient(45deg, #7e7e7e, #7e7e7e 10px, #5c5c5c 10px, #5c5c5c 20px);\n",
       "    }\n",
       "    .progress-bar-interrupted, .progress-bar-interrupted::-webkit-progress-bar {\n",
       "        background: #F44336;\n",
       "    }\n",
       "</style>\n"
      ],
      "text/plain": [
       "<IPython.core.display.HTML object>"
      ]
     },
     "metadata": {},
     "output_type": "display_data"
    },
    {
     "data": {
      "text/html": [
       "\n",
       "    <div>\n",
       "      <progress value='100' class='' max='100' style='width:300px; height:20px; vertical-align: middle;'></progress>\n",
       "      100.00% [100/100 00:04&lt;00:00]\n",
       "    </div>\n",
       "    "
      ],
      "text/plain": [
       "<IPython.core.display.HTML object>"
      ]
     },
     "metadata": {},
     "output_type": "display_data"
    },
    {
     "data": {
      "text/html": [
       "\n",
       "<style>\n",
       "    /* Turns off some styling */\n",
       "    progress {\n",
       "        /* gets rid of default border in Firefox and Opera. */\n",
       "        border: none;\n",
       "        /* Needs to be in here for Safari polyfill so background images work as expected. */\n",
       "        background-size: auto;\n",
       "    }\n",
       "    progress:not([value]), progress:not([value])::-webkit-progress-bar {\n",
       "        background: repeating-linear-gradient(45deg, #7e7e7e, #7e7e7e 10px, #5c5c5c 10px, #5c5c5c 20px);\n",
       "    }\n",
       "    .progress-bar-interrupted, .progress-bar-interrupted::-webkit-progress-bar {\n",
       "        background: #F44336;\n",
       "    }\n",
       "</style>\n"
      ],
      "text/plain": [
       "<IPython.core.display.HTML object>"
      ]
     },
     "metadata": {},
     "output_type": "display_data"
    },
    {
     "data": {
      "text/html": [],
      "text/plain": [
       "<IPython.core.display.HTML object>"
      ]
     },
     "metadata": {},
     "output_type": "display_data"
    },
    {
     "data": {
      "text/html": [
       "Waiting for W&B process to finish... <strong style=\"color:green\">(success).</strong>"
      ],
      "text/plain": [
       "<IPython.core.display.HTML object>"
      ]
     },
     "metadata": {},
     "output_type": "display_data"
    },
    {
     "data": {
      "text/html": [
       "<style>\n",
       "    table.wandb td:nth-child(1) { padding: 0 10px; text-align: left ; width: auto;} td:nth-child(2) {text-align: left ; width: 100%}\n",
       "    .wandb-row { display: flex; flex-direction: row; flex-wrap: wrap; justify-content: flex-start; width: 100% }\n",
       "    .wandb-col { display: flex; flex-direction: column; flex-basis: 100%; flex: 1; padding: 10px; }\n",
       "    </style>\n",
       "<div class=\"wandb-row\"><div class=\"wandb-col\"><h3>Run history:</h3><br/><table class=\"wandb\"><tr><td>background_iou</td><td>▁▄▃▆▇▇▇▇██</td></tr><tr><td>bicycle_iou</td><td>▁▁▁▁▁▁▁▁▁▁</td></tr><tr><td>epoch</td><td>▁▁▁▂▂▂▂▂▂▃▃▃▃▃▄▄▄▄▄▄▅▅▅▅▅▅▆▆▆▆▆▇▇▇▇▇▇███</td></tr><tr><td>eps_0</td><td>▁▁▁▁▁▁▁▁▁▁▁▁▁▁▁▁▁▁▁▁▁▁▁▁▁▁▁▁▁▁▁▁▁▁▁▁▁▁▁▁</td></tr><tr><td>eps_1</td><td>▁▁▁▁▁▁▁▁▁▁▁▁▁▁▁▁▁▁▁▁▁▁▁▁▁▁▁▁▁▁▁▁▁▁▁▁▁▁▁▁</td></tr><tr><td>eps_2</td><td>▁▁▁▁▁▁▁▁▁▁▁▁▁▁▁▁▁▁▁▁▁▁▁▁▁▁▁▁▁▁▁▁▁▁▁▁▁▁▁▁</td></tr><tr><td>lr_0</td><td>▁▂▂▃▄▅▆▇███████▇▇▇▇▆▆▆▅▅▅▄▄▄▃▃▃▂▂▂▁▁▁▁▁▁</td></tr><tr><td>lr_1</td><td>▁▂▂▃▄▅▆▇███████▇▇▇▇▆▆▆▅▅▅▄▄▄▃▃▃▂▂▂▁▁▁▁▁▁</td></tr><tr><td>lr_2</td><td>▁▂▂▃▄▅▆▇███████▇▇▇▇▆▆▆▅▅▅▄▄▄▃▃▃▂▂▂▁▁▁▁▁▁</td></tr><tr><td>miou</td><td>▁▄▄▆▆▇▇▇██</td></tr><tr><td>mom_0</td><td>██▇▆▅▄▃▂▁▁▁▁▁▁▁▂▂▂▂▃▃▃▄▄▄▅▅▅▆▆▆▇▇▇██████</td></tr><tr><td>mom_1</td><td>██▇▆▅▄▃▂▁▁▁▁▁▁▁▂▂▂▂▃▃▃▄▄▄▅▅▅▆▆▆▇▇▇██████</td></tr><tr><td>mom_2</td><td>██▇▆▅▄▃▂▁▁▁▁▁▁▁▂▂▂▂▃▃▃▄▄▄▅▅▅▆▆▆▇▇▇██████</td></tr><tr><td>person_iou</td><td>▁▁▁▁▁▁▁▁▁▁</td></tr><tr><td>raw_loss</td><td>█▆▄▄▃▃▅▄▃▃▃▃▂▃▃▃▂▂▂▂▂▂▃▂▃▂▂▁▁▂▂▂▂▂▁▁▁▁▂▂</td></tr><tr><td>road_iou</td><td>▁▅▄▅▇▇▇▇██</td></tr><tr><td>sqr_mom_0</td><td>▁▁▁▁▁▁▁▁▁▁▁▁▁▁▁▁▁▁▁▁▁▁▁▁▁▁▁▁▁▁▁▁▁▁▁▁▁▁▁▁</td></tr><tr><td>sqr_mom_1</td><td>▁▁▁▁▁▁▁▁▁▁▁▁▁▁▁▁▁▁▁▁▁▁▁▁▁▁▁▁▁▁▁▁▁▁▁▁▁▁▁▁</td></tr><tr><td>sqr_mom_2</td><td>▁▁▁▁▁▁▁▁▁▁▁▁▁▁▁▁▁▁▁▁▁▁▁▁▁▁▁▁▁▁▁▁▁▁▁▁▁▁▁▁</td></tr><tr><td>traffic_light_iou</td><td>▁▁▁▁▁▁█▃▇▇</td></tr><tr><td>traffic_sign_iou</td><td>▁▁▁▁▁▁▇█▂▇</td></tr><tr><td>train_loss</td><td>█▅▄▃▃▂▂▂▂▂▂▂▂▂▂▂▂▂▂▂▂▂▁▁▁▁▁▁▁▁▁▁▁▁▁▁▁▁▁▁</td></tr><tr><td>train_samples_per_sec</td><td>▅▁▅▁▅▃▄▁▂█▃▆▅▂▁▅▃▃▃▄▆▃▆▃▅▇▆▅▇▂▄▇▅▄▆▄▅▅▆▅</td></tr><tr><td>valid_loss</td><td>█▅█▃▃▃▂▂▁▁</td></tr><tr><td>vehicle_iou</td><td>▁▄▄▇▇▇▇███</td></tr><tr><td>wd_0</td><td>▁▁▁▁▁▁▁▁▁▁▁▁▁▁▁▁▁▁▁▁▁▁▁▁▁▁▁▁▁▁▁▁▁▁▁▁▁▁▁▁</td></tr><tr><td>wd_1</td><td>▁▁▁▁▁▁▁▁▁▁▁▁▁▁▁▁▁▁▁▁▁▁▁▁▁▁▁▁▁▁▁▁▁▁▁▁▁▁▁▁</td></tr><tr><td>wd_2</td><td>▁▁▁▁▁▁▁▁▁▁▁▁▁▁▁▁▁▁▁▁▁▁▁▁▁▁▁▁▁▁▁▁▁▁▁▁▁▁▁▁</td></tr></table><br/></div><div class=\"wandb-col\"><h3>Run summary:</h3><br/><table class=\"wandb\"><tr><td>background_iou</td><td>0.92259</td></tr><tr><td>bicycle_iou</td><td>0.0</td></tr><tr><td>epoch</td><td>10</td></tr><tr><td>eps_0</td><td>1e-05</td></tr><tr><td>eps_1</td><td>1e-05</td></tr><tr><td>eps_2</td><td>1e-05</td></tr><tr><td>final_background_iou</td><td>0.92259</td></tr><tr><td>final_bicycle_iou</td><td>0.0</td></tr><tr><td>final_loss</td><td>0.22597</td></tr><tr><td>final_miou</td><td>0.37113</td></tr><tr><td>final_person_iou</td><td>0.0</td></tr><tr><td>final_road_iou</td><td>0.84376</td></tr><tr><td>final_traffic_light_iou</td><td>0.05902</td></tr><tr><td>final_traffic_sign_iou</td><td>0.00298</td></tr><tr><td>final_vehicle_iou</td><td>0.76956</td></tr><tr><td>lr_0</td><td>0.0</td></tr><tr><td>lr_1</td><td>0.0</td></tr><tr><td>lr_2</td><td>0.0</td></tr><tr><td>miou</td><td>0.37113</td></tr><tr><td>mom_0</td><td>0.95</td></tr><tr><td>mom_1</td><td>0.95</td></tr><tr><td>mom_2</td><td>0.95</td></tr><tr><td>person_iou</td><td>0.0</td></tr><tr><td>raw_loss</td><td>0.16391</td></tr><tr><td>road_iou</td><td>0.84376</td></tr><tr><td>sqr_mom_0</td><td>0.99</td></tr><tr><td>sqr_mom_1</td><td>0.99</td></tr><tr><td>sqr_mom_2</td><td>0.99</td></tr><tr><td>traffic_light_iou</td><td>0.05902</td></tr><tr><td>traffic_sign_iou</td><td>0.00298</td></tr><tr><td>train_loss</td><td>0.18055</td></tr><tr><td>train_samples_per_sec</td><td>82.55047</td></tr><tr><td>valid_loss</td><td>0.22597</td></tr><tr><td>vehicle_iou</td><td>0.76956</td></tr><tr><td>wd_0</td><td>0.01</td></tr><tr><td>wd_1</td><td>0.01</td></tr><tr><td>wd_2</td><td>0.01</td></tr></table><br/></div></div>"
      ],
      "text/plain": [
       "<IPython.core.display.HTML object>"
      ]
     },
     "metadata": {},
     "output_type": "display_data"
    },
    {
     "data": {
      "text/html": [
       " View run <strong style=\"color:#cdcd00\">glowing-leaf-8</strong> at: <a href='https://wandb.ai/hasibzunair/mlops-course-001/runs/c8hwz719' target=\"_blank\">https://wandb.ai/hasibzunair/mlops-course-001/runs/c8hwz719</a><br/>Synced 6 W&B file(s), 1 media file(s), 302 artifact file(s) and 0 other file(s)"
      ],
      "text/plain": [
       "<IPython.core.display.HTML object>"
      ]
     },
     "metadata": {},
     "output_type": "display_data"
    },
    {
     "data": {
      "text/html": [
       "Find logs at: <code>./wandb/run-20230428_050206-c8hwz719/logs</code>"
      ],
      "text/plain": [
       "<IPython.core.display.HTML object>"
      ]
     },
     "metadata": {},
     "output_type": "display_data"
    }
   ],
   "source": [
    "train(train_config)"
   ]
  }
 ],
 "metadata": {
  "kernelspec": {
   "display_name": "Python 3.8.12 ('fifa')",
   "language": "python",
   "name": "python3"
  },
  "language_info": {
   "codemirror_mode": {
    "name": "ipython",
    "version": 3
   },
   "file_extension": ".py",
   "mimetype": "text/x-python",
   "name": "python",
   "nbconvert_exporter": "python",
   "pygments_lexer": "ipython3",
   "version": "3.8.12"
  },
  "vscode": {
   "interpreter": {
    "hash": "5a4cff4f724f20f3784f32e905011239b516be3fadafd59414871df18d0dad63"
   }
  }
 },
 "nbformat": 4,
 "nbformat_minor": 5
}
